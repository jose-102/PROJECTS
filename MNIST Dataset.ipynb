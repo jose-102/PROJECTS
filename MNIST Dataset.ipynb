{
 "cells": [
  {
   "cell_type": "markdown",
   "metadata": {},
   "source": [
    "**Task:**  To use Image Classification Techniques to identify handwritten digits.\n",
    "\n",
    "**About:**\n",
    "The MNIST database of handwritten digits has a training set of 60,000 examples, and a test set of 10,000 examples. It is a subset of a larger set available from NIST. The digits have been size-normalized and centered in a fixed-size image."
   ]
  },
  {
   "cell_type": "markdown",
   "metadata": {
    "id": "QV1BkzquDziF"
   },
   "source": [
    "The %matplotlib inline command tells the IPython environment to draw the plots immediately after the current cell. The drawn plots are shown below the code and stored in the notebook document for future reference."
   ]
  },
  {
   "cell_type": "code",
   "execution_count": 114,
   "metadata": {
    "id": "M8FbyRECDXME"
   },
   "outputs": [],
   "source": [
    "%matplotlib inline"
   ]
  },
  {
   "cell_type": "markdown",
   "metadata": {
    "id": "MBnyfbR5EMXE"
   },
   "source": [
    "##The task\n",
    "The goal is to contruct and train an artificial neural network on thousands of images of handwritten digits so that it may successfully identify others when presented. The data that will be incorporated is the MNIST database which contains 60000 images for training and 10000 test images, We will use the keras Python API with TensorFlow as the backend."
   ]
  },
  {
   "cell_type": "markdown",
   "metadata": {
    "id": "6laTaA-7majg"
   },
   "source": [
    "### **Method 1: Without Convolution**\n",
    "\n",
    "Building a network that accepts the normalized pixel values of each value and operate solely based on those values."
   ]
  },
  {
   "cell_type": "markdown",
   "metadata": {
    "id": "Ty3U6KIME1M1"
   },
   "source": [
    "#**Step 1: Prequisite Python Modules**\n",
    "We import all the necessary libraries which will be useful for building the neural Network.\n",
    "\n",
    "Info:\n",
    "Keras is the high-level API of TensorFlow 2: an approachable, highly-productive interface for solving machine learning problems, with a focus on modern deep learning. It provides essential abstractions and building blocks for developing and shipping machine learning solutions with high iteration velocity"
   ]
  },
  {
   "cell_type": "code",
   "execution_count": 115,
   "metadata": {
    "id": "EEUNLtTXD916"
   },
   "outputs": [],
   "source": [
    "import numpy as np                  # advanced math library\n",
    "import matplotlib.pyplot as plt     # MATLAB helps with plotting.\n",
    "import random                       # for generating random numbers\n",
    "\n",
    "from keras.datasets import mnist    # Keras provides a dummy dataset whci his called MNIST dataset\n",
    "from keras.models import Sequential # Model type to be used\n",
    "\n",
    "from keras.layers.core import Dense, Dropout, Activation  # Types of layers to be used in the model\n",
    "from keras.utils import np_utils                          # Keras provides numpy utility library, which provides functions to perform actions on numpy arrays"
   ]
  },
  {
   "cell_type": "markdown",
   "metadata": {
    "id": "xH6o-Jb4IANb"
   },
   "source": [
    "# **Step 2: Splitting the dataset into Train and Test**"
   ]
  },
  {
   "cell_type": "code",
   "execution_count": 116,
   "metadata": {
    "colab": {
     "base_uri": "https://localhost:8080/"
    },
    "id": "z9R6Dc9fFxsa",
    "outputId": "11620acb-b013-4d01-9348-73d00e7a8a7a"
   },
   "outputs": [
    {
     "name": "stdout",
     "output_type": "stream",
     "text": [
      "X_train shape (60000, 28, 28)\n",
      "Y_train shape (60000,)\n",
      "X_test shape (10000, 28, 28)\n",
      "Y_test shape (10000,)\n"
     ]
    }
   ],
   "source": [
    "# The MNIST data is split between 60,000 image (26 X 28 px)\n",
    "# training images and 10,000 images (28 x 28 px)\n",
    "\n",
    "(X_train, y_train), (X_test,y_test) = mnist.load_data()\n",
    "\n",
    "print(\"X_train shape\", X_train.shape)\n",
    "print(\"Y_train shape\", y_train.shape)\n",
    "print(\"X_test shape\", X_test.shape)\n",
    "print(\"Y_test shape\", y_test.shape)"
   ]
  },
  {
   "cell_type": "markdown",
   "metadata": {
    "id": "yzCbEad6JOac"
   },
   "source": [
    "## **Step 3: Using matplotlib , we can plot some sample images from the training set directly into this google colab notebook. This is done just to observe training set (Images) of the dataset.**\n",
    "\n",
    "Few parameters of the plt.imshow() are:\n",
    "1. cmap : This parameter is a colormap instance or registered colormap name.For displaying a grayscale image set up the colormapping using the parameters cmap='gray', vmin=0, vmax=255\n",
    "2. interpolation : This parameter is the interpolation method which used to display an image."
   ]
  },
  {
   "cell_type": "code",
   "execution_count": 117,
   "metadata": {
    "colab": {
     "base_uri": "https://localhost:8080/",
     "height": 657
    },
    "id": "ZyMRR_2MI0LG",
    "outputId": "69927043-ba40-472d-94ec-dedc741cc6a6"
   },
   "outputs": [
    {
     "data": {
      "image/png": "[encoded data removed]",
      "text/plain": [
       "<Figure size 648x648 with 9 Axes>"
      ]
     },
     "metadata": {
      "needs_background": "light"
     },
     "output_type": "display_data"
    }
   ],
   "source": [
    "plt.rcParams['figure.figsize'] = (9,9)                          # Make the figures a bit bigger\n",
    "for i in range(9):\n",
    "    plt.subplot(3,3,i+1)                                        # Creating a matrix of 3X3, to display the images.\n",
    "    num = random.randint(0, len(X_train))                       # Now at each iteration a random number between 0 and 60,000 is selected,\n",
    "                                                                # one of the image at the index of num is displayed as one of the elements of the matrix.\n",
    "    plt.imshow(X_train[num], cmap='gray', interpolation=None, vmin=0, vmax=255)    # The imshow() function in pyplot module of matplotlib \n",
    "                                                                # library is used to display data as an image; i.e. on a 2D regular raster.\n",
    "    plt.title(\"Class {}\".format(y_train[num]))\n",
    "    \n",
    "plt.tight_layout()"
   ]
  },
  {
   "cell_type": "markdown",
   "metadata": {
    "id": "CFG57Bt8JnCy"
   },
   "source": [
    "Let's examine a single digit a little closer, and print out the array"
   ]
  },
  {
   "cell_type": "code",
   "execution_count": 118,
   "metadata": {
    "colab": {
     "base_uri": "https://localhost:8080/"
    },
    "id": "5ypN5Wm8LlCS",
    "outputId": "e7dba1d0-5911-41bc-c4d4-6c5b9d93f3f9"
   },
   "outputs": [
    {
     "name": "stdout",
     "output_type": "stream",
     "text": [
      "0  0  0  0  0  0  0    0    0    0    0    0    0    0    0    0    0    0    0    0   0  0  0  0  0  0  0  0  \n",
      "0  0  0  0  0  0  0    0    0    0    0    0    0    0    0    0    0    0    0    0   0  0  0  0  0  0  0  0  \n",
      "0  0  0  0  0  0  0    0    0    0    0    0    0    0    0    0    0    0    0    0   0  0  0  0  0  0  0  0  \n",
      "0  0  0  0  0  0  0    0    0    0    0    0    0    0    0    0    0    0    0    0   0  0  0  0  0  0  0  0  \n",
      "0  0  0  0  0  0  0    0    3   82  254  208  133  133   71   11    0    0    0    0   0  0  0  0  0  0  0  0  \n",
      "0  0  0  0  0  0  0   40  171  253  253  253  253  253  254  243  128    9    0    0   0  0  0  0  0  0  0  0  \n",
      "0  0  0  0  0  0  0  169  253  253  253  239  159  217  254  253  253   84    0    0   0  0  0  0  0  0  0  0  \n",
      "0  0  0  0  0  0  0   57  113  170   84   52    0    0  150  253  253  108    0    0   0  0  0  0  0  0  0  0  \n",
      "0  0  0  0  0  0  0    0    0    0    0    0    0    0    7  202  253  205    0    0   0  0  0  0  0  0  0  0  \n",
      "0  0  0  0  0  0  0    0    0    0    0    0    0    0   48  253  253  170    0    0   0  0  0  0  0  0  0  0  \n",
      "0  0  0  0  0  0  0    0    0    0    0    0    0    0  133  253  253   84    0    0   0  0  0  0  0  0  0  0  \n",
      "0  0  0  0  0  0  0    0    0    0    0    0    0   93  238  253  239   52    0    0   0  0  0  0  0  0  0  0  \n",
      "0  0  0  0  0  0  0    0    0    0    0   95  161  252  254  253  233   89    0    0   0  0  0  0  0  0  0  0  \n",
      "0  0  0  0  0  0  0    0    0    0  197  252  253  253  254  253  253  251  127    0   0  0  0  0  0  0  0  0  \n",
      "0  0  0  0  0  0  0    0    0    0  201  254  254  254  244  184  250  255  254  128   3  0  0  0  0  0  0  0  \n",
      "0  0  0  0  0  0  0    0    0    0   37  154  177  109    0    0   68  205  253  253  48  0  0  0  0  0  0  0  \n",
      "0  0  0  0  0  0  0    0    0    0    0    0    0    0    0    0    0   95  253  253  48  0  0  0  0  0  0  0  \n",
      "0  0  0  0  0  0  0    0    0    0    0    0    0    0    0    0    0  129  253  253  48  0  0  0  0  0  0  0  \n",
      "0  0  0  0  0  0  0    0    0    0    0    0    0    0    0    0    0  169  253  253  48  0  0  0  0  0  0  0  \n",
      "0  0  0  0  0  0  0    0    0    0    0    0    0    0    0    0   63  234  236   88  12  0  0  0  0  0  0  0  \n",
      "0  0  0  0  0  0  0    0   62   86   86   53    0    0   45  154  235  253  193    0   0  0  0  0  0  0  0  0  \n",
      "0  0  0  0  0  0  0   42  243  253  253  240  218  218  238  253  253  235   62    0   0  0  0  0  0  0  0  0  \n",
      "0  0  0  0  0  0  0   28  222  253  253  253  253  253  254  253  253   95    0    0   0  0  0  0  0  0  0  0  \n",
      "0  0  0  0  0  0  0    0   37  132  132  132  190  132  191  121   11    4    0    0   0  0  0  0  0  0  0  0  \n",
      "0  0  0  0  0  0  0    0    0    0    0    0    0    0    0    0    0    0    0    0   0  0  0  0  0  0  0  0  \n",
      "0  0  0  0  0  0  0    0    0    0    0    0    0    0    0    0    0    0    0    0   0  0  0  0  0  0  0  0  \n",
      "0  0  0  0  0  0  0    0    0    0    0    0    0    0    0    0    0    0    0    0   0  0  0  0  0  0  0  0  \n",
      "0  0  0  0  0  0  0    0    0    0    0    0    0    0    0    0    0    0    0    0   0  0  0  0  0  0  0  0  \n"
     ]
    }
   ],
   "source": [
    "# just a little function for pretty printing a matrix\n",
    "def matprint(mat, fmt=\"g\"):\n",
    "    col_maxes = [max([len((\"{:\"+fmt+\"}\").format(x)) for x in col]) for col in mat.T]\n",
    "    for x in mat:\n",
    "        for i, y in enumerate(x):\n",
    "            print((\"{:\"+str(col_maxes[i])+fmt+\"}\").format(y), end=\"  \")\n",
    "        print(\"\")\n",
    "# now print!        \n",
    "matprint(X_train[num])"
   ]
  },
  {
   "cell_type": "markdown",
   "metadata": {
    "id": "VFnut6LdLO4m"
   },
   "source": [
    "Each pixel is a 8-bit integer from 0-255. 0 is full black while 255 is full white. This what we call a single-channel pixel it's called monochrome.\n",
    "\n",
    "\n",
    "Formatting the input datra layer instead of 28 x 28 matrix, we build our network to accept \n"
   ]
  },
  {
   "cell_type": "markdown",
   "metadata": {
    "id": "NYUiv5ONd1up"
   },
   "source": [
    "## **Step 4: Feature tranformation** \n",
    "\n",
    "A. Reshaping the train and test data from 28 x 28 to 784. Which is basically passing each pixel to the neural Network. Here, we are directly doing Flattening."
   ]
  },
  {
   "cell_type": "code",
   "execution_count": 119,
   "metadata": {
    "id": "tVRPtt3fLy5e"
   },
   "outputs": [],
   "source": [
    "X_train = X_train.reshape(60000 , 784)  # reshape 60,000 28 x 28 matrices into 784\n",
    "X_test = X_test.reshape(10000, 784)     # reshape 10,000 28 x 28 matrices into 784"
   ]
  },
  {
   "cell_type": "code",
   "execution_count": 120,
   "metadata": {
    "colab": {
     "base_uri": "https://localhost:8080/"
    },
    "id": "M4298kfUr_gx",
    "outputId": "4acd58d2-1ee5-43f8-b1e4-b853324f961a"
   },
   "outputs": [
    {
     "data": {
      "text/plain": [
       "dtype('uint8')"
      ]
     },
     "execution_count": 120,
     "metadata": {},
     "output_type": "execute_result"
    }
   ],
   "source": [
    "X_train.dtype # the data is of type integer"
   ]
  },
  {
   "cell_type": "markdown",
   "metadata": {
    "id": "6cU11duOr7Vd"
   },
   "source": [
    "B. All the math involved for neural network is continuous and not discrete, if we do not convert the data type explicitly, at some point in pipeline the values will be converted to float. Also, it is the best practice to convert the values explicitly as some frameworks might give the error when the inputs are not of expected data type."
   ]
  },
  {
   "cell_type": "code",
   "execution_count": 121,
   "metadata": {
    "id": "HbM8mluBN1s0"
   },
   "outputs": [],
   "source": [
    "X_train = X_train.astype('float32')  #Change integers to 32-bit floating point\n",
    "X_test = X_test.astype('float32')"
   ]
  },
  {
   "cell_type": "markdown",
   "metadata": {
    "id": "_mzRU-48vrJs"
   },
   "source": [
    "C. Normailizing using min-max Method\n",
    "\n",
    "The reason why we normalize each pixel value is neural network learns its weights by continually adding gradient error vectors (multiplied by a learning rate) computed from backpropagation to various weight matrices throughout the network as training examples are passed through.\n",
    "\n",
    "If we didn't scale our input training vectors, the ranges of our distributions of feature values would likely be different for each feature, and thus the learning rate would cause corrections in each dimension that would differ (proportionally speaking) from one another. We might be over compensating a correction in one weight dimension while undercompensating in another.\n",
    "\n",
    "This is non-ideal as we might find ourselves in a oscillating (unable to center onto a better maxima in cost(weights) space) state or in a slow moving (traveling too slow to get to a better maxima) state."
   ]
  },
  {
   "cell_type": "code",
   "execution_count": 122,
   "metadata": {
    "colab": {
     "base_uri": "https://localhost:8080/"
    },
    "id": "O5v3O9pir4Iw",
    "outputId": "6041ccfc-a796-464c-b373-0409e19c7c4f"
   },
   "outputs": [
    {
     "name": "stdout",
     "output_type": "stream",
     "text": [
      "Training matrix shape (60000, 784)\n",
      "Testing matrix shape (10000, 784)\n"
     ]
    }
   ],
   "source": [
    "X_train /=255 #normalize each value for each pixel\n",
    "X_test /=255\n",
    "\n",
    "print(\"Training matrix shape\", X_train.shape)\n",
    "print(\"Testing matrix shape\", X_test.shape)"
   ]
  },
  {
   "cell_type": "markdown",
   "metadata": {
    "id": "UZLx2jBWPQqX"
   },
   "source": [
    "D. Converting the dependent variable to vectors which will consists 1 and 0s. \n",
    "1 - The image is of that particular Category.\n",
    "0 - The image is not of that particular Category.\n",
    "\n",
    "The classes (unique digits) are to be in the one-hot encoding formating, i.e\n",
    "\n",
    "0  = [1,0,0,0,0,0,0,0,0,0]\n",
    "\n",
    "1 =  [0,1,0,0,0,0,0,0,0,0]\n",
    "\n",
    "etc\n"
   ]
  },
  {
   "cell_type": "code",
   "execution_count": 123,
   "metadata": {
    "colab": {
     "base_uri": "https://localhost:8080/"
    },
    "id": "VeL-Upf4wj3U",
    "outputId": "82b54b86-7355-4072-ef4d-3a6137959baf"
   },
   "outputs": [
    {
     "data": {
      "text/plain": [
       "60000"
      ]
     },
     "execution_count": 123,
     "metadata": {},
     "output_type": "execute_result"
    }
   ],
   "source": [
    "len(y_train)"
   ]
  },
  {
   "cell_type": "code",
   "execution_count": 124,
   "metadata": {
    "id": "Pd6ITxolOjN4"
   },
   "outputs": [],
   "source": [
    "nb_classes = 10 # number of unique digits\n",
    "\n",
    "Y_train = np_utils.to_categorical(y_train, nb_classes)\n",
    "Y_test = np_utils.to_categorical(y_test, nb_classes)"
   ]
  },
  {
   "cell_type": "code",
   "execution_count": 125,
   "metadata": {
    "colab": {
     "base_uri": "https://localhost:8080/"
    },
    "id": "zSgtGeAewut0",
    "outputId": "5fbd25cf-148e-43ce-c599-0ac49c7103a4"
   },
   "outputs": [
    {
     "data": {
      "text/plain": [
       "array([0., 0., 0., 0., 0., 1., 0., 0., 0., 0.], dtype=float32)"
      ]
     },
     "execution_count": 125,
     "metadata": {},
     "output_type": "execute_result"
    }
   ],
   "source": [
    "Y_train[0] # The first image is of digit five"
   ]
  },
  {
   "cell_type": "markdown",
   "metadata": {
    "id": "mt2K7ZAoyMbR"
   },
   "source": [
    "## **Step 5: Model building**\n",
    "A. We create a sequential object, which is used to simply arranging the Keras layers in a sequential order and so, it is called Sequential API. Most of the ANN also has layers in sequential order and the data flows from one layer to another layer in the given order until the data finally reaches the output layer."
   ]
  },
  {
   "cell_type": "code",
   "execution_count": 126,
   "metadata": {
    "id": "87kIGcNeQD2X"
   },
   "outputs": [],
   "source": [
    "# The sequential model is a linear stack of layers and is very common.\n",
    "model = Sequential()"
   ]
  },
  {
   "cell_type": "markdown",
   "metadata": {
    "id": "6NvCcsEX2lZr"
   },
   "source": [
    "B. Creating the first hidden layer, which will consists of 512 nodes or neurons. Each node will receive an element from each input vector and apply some weight and bias to it. This layer will receive 784 inputs from the input layer."
   ]
  },
  {
   "cell_type": "code",
   "execution_count": 127,
   "metadata": {
    "id": "Yz-pyqphQhEC"
   },
   "outputs": [],
   "source": [
    "model.add(Dense(512, input_shape = (784,))) #(784,) is not a typo -- that represents a 784 length vector! "
   ]
  },
  {
   "cell_type": "markdown",
   "metadata": {
    "id": "lZDaD4Vt2x1x"
   },
   "source": [
    "C. Now an activation function which is a non-linear function is applied to the output of the layer 1. This activation function checks the output of each node and decides whether the node has fired or not. The activation function used here is 'Rectified Linear Unit (ReLU) it converts all negative inputs to the  node in the next layer to be zero. These inputs are then not considered to be fired. The positive values are unchanged.\n",
    "\n",
    "**Extra Info**\n",
    "\n",
    "Why do we need an activation function?\n",
    "\n",
    "A activation function adds non-linearity into the model, thus helping the model to learn complex tasks efficiently. There are three popular activation functions Binary step, Linear Activation and Non-linear. Non-Linears fucntion are only used in practice because they help in the backpropogation step. \n",
    "\n",
    "Why do we use ReLU in particular?\n",
    "\n",
    "The advantage of using ReLU function here is that:\n",
    "1. Since only a certain number of neurons are activated, the ReLU function is far more computationally efficient when compared to the sigmoid and tanh functions.\n",
    "2. ReLU accelerates the convergence of gradient descent towards the global minimum of the loss function due to its linear, non-saturating property.\n",
    "\n"
   ]
  },
  {
   "cell_type": "code",
   "execution_count": 128,
   "metadata": {
    "id": "3k5Ds3iDRMf3"
   },
   "outputs": [],
   "source": [
    "model.add(Activation('relu'))"
   ]
  },
  {
   "cell_type": "markdown",
   "metadata": {
    "id": "KD2hinJaHJHD"
   },
   "source": [
    "D. Using Dropout regularization technique.\n",
    "\n",
    "Dropout is a technique where randomly selected neurons are ignored during training. They are “dropped out” randomly. This means that their contribution to the activation of downstream neurons is temporally removed on the forward pass, and any weight updates are not applied to the neuron on the backward pass.\n",
    "\n",
    "If neurons are randomly dropped out of the network during training, other neurons will have to step in and handle the representation required to make predictions for the missing neurons. This is believed to result in multiple independent internal representations being learned by the network.\n",
    "\n",
    "The effect is that the network becomes less sensitive to the specific weights of neurons. This, in turn, results in a network capable of better generalization and less likely to overfit the training data."
   ]
  },
  {
   "cell_type": "code",
   "execution_count": 129,
   "metadata": {
    "id": "0vaNY1KvR6Oy"
   },
   "outputs": [],
   "source": [
    "# Dropout zeroes a selection of random outputs\n",
    "# (i.e., disables their activation)\n",
    "# Dropout helps protect the model from memorizing\n",
    "#It is a kind of regularization so as to reduce the overfitting\n",
    "model.add(Dropout(0.2))  #normal Dropout range be 0 to 1"
   ]
  },
  {
   "cell_type": "markdown",
   "metadata": {
    "id": "Eybf_t63IFmk"
   },
   "source": [
    "E. Adding another layer with 512 neurons to the network. Here, too we use ReLU as an activation function for the outputs from the Layer. Also here, we will be dropping 20% of contribution of neurons in the Layer."
   ]
  },
  {
   "cell_type": "code",
   "execution_count": 130,
   "metadata": {
    "id": "ZAEp4Z6DTvRW"
   },
   "outputs": [],
   "source": [
    "# THe second Layer\n",
    "model.add(Dense(512))\n",
    "model.add(Activation('relu'))\n",
    "model.add(Dropout(0.2))"
   ]
  },
  {
   "cell_type": "markdown",
   "metadata": {
    "id": "iJO7vDLDUOuU"
   },
   "source": [
    "F. Finally adding the **Output Layer**. Which will consist of 10 Neurons since our output variable has 10 Classes."
   ]
  },
  {
   "cell_type": "code",
   "execution_count": 131,
   "metadata": {
    "id": "x8l6rNAnT4qC"
   },
   "outputs": [],
   "source": [
    "model.add(Dense(10))"
   ]
  },
  {
   "cell_type": "markdown",
   "metadata": {
    "id": "mxcWGpNyJJSM"
   },
   "source": [
    "G. Now in this layer we will apply the \"Softmax\" Activation function. The Softmax function is used generally for the ouput layer when we have the problem of multiple categories. It wil lgive probabilities of each class. The class with the highest probability is represented by one and others as zero."
   ]
  },
  {
   "cell_type": "code",
   "execution_count": 132,
   "metadata": {
    "id": "6qkFBwTEUXP8"
   },
   "outputs": [],
   "source": [
    "# The \"softmax\" activation represents a probability distribution\n",
    "# over K different possible outcomes.\n",
    "# Its values are all non-negative and sum to 1.\n",
    "\n",
    "model.add(Activation('softmax'))"
   ]
  },
  {
   "cell_type": "markdown",
   "metadata": {
    "id": "vmzjT-jqVpUV"
   },
   "source": [
    "H. By using model.summary(). We get the information about the number of parameters that are involved at each layer. \n",
    "\n",
    "For eg:\n",
    "\n",
    "1st Layer    : 784 x 512(Weights) + 512(Biases)\n",
    "\n",
    "2nd Layer    : 512 x 512(Weights) + 512(Biases)\n",
    "\n",
    "Output Layer : 512 x 10 (Weights) + 10 (Biases)\n",
    "\n",
    "Also,\n",
    "\n",
    "**Total params** is the sum of Trainable params and Non-trainable params.\n",
    "\n",
    "**Trainable params** these are the parameters which are trained using the gradient descent.\n",
    "\n",
    "**Non-trainable params** Discussed in detail in the next part.\n"
   ]
  },
  {
   "cell_type": "code",
   "execution_count": 133,
   "metadata": {
    "colab": {
     "base_uri": "https://localhost:8080/"
    },
    "id": "gy1Zwu1SU_pY",
    "outputId": "61e63e11-25a6-477a-ff72-c9cebf0f47c2"
   },
   "outputs": [
    {
     "name": "stdout",
     "output_type": "stream",
     "text": [
      "Model: \"sequential_3\"\n",
      "_________________________________________________________________\n",
      " Layer (type)                Output Shape              Param #   \n",
      "=================================================================\n",
      " dense_8 (Dense)             (None, 512)               401920    \n",
      "                                                                 \n",
      " activation_12 (Activation)  (None, 512)               0         \n",
      "                                                                 \n",
      " dropout_5 (Dropout)         (None, 512)               0         \n",
      "                                                                 \n",
      " dense_9 (Dense)             (None, 512)               262656    \n",
      "                                                                 \n",
      " activation_13 (Activation)  (None, 512)               0         \n",
      "                                                                 \n",
      " dropout_6 (Dropout)         (None, 512)               0         \n",
      "                                                                 \n",
      " dense_10 (Dense)            (None, 10)                5130      \n",
      "                                                                 \n",
      " activation_14 (Activation)  (None, 10)                0         \n",
      "                                                                 \n",
      "=================================================================\n",
      "Total params: 669,706\n",
      "Trainable params: 669,706\n",
      "Non-trainable params: 0\n",
      "_________________________________________________________________\n"
     ]
    }
   ],
   "source": [
    "# summarize the built model\n",
    "model.summary()"
   ]
  },
  {
   "cell_type": "markdown",
   "metadata": {
    "id": "oFRvwvtzWMb1"
   },
   "source": [
    "# **Step 6: Compiling the model**\n",
    "\n",
    "When compiling a model, Keras asks you to specify your loss function and your optimizer. The loss function we'll use here is called categorical cross-entopy, and is a loss function well-suited to comparing two probability distributions.\n",
    "\n",
    "Our predictions are probability distributions across the ten different digits (e.g. \"we're 80% confident this image is a 3, 10% sure it's an 8, 5% it's a 2, etc.\"), and the target is a probability distribution with 100% for the correct category, and 0 for everything else. The cross-entropy is a measure of how different your predicted distribution is from the target distribution.\n",
    " **Optimizer Function** is used to adjust the weights so that the loss function is reduced.There are various Optimizer function like adam (Adaptive Moment Estimation), AdaMax,AMSgrd, etc.\n",
    "\n",
    "Here, we also define the alpha value which is the **\"learning rate\"**. When alpha is **too large** the accuracy of the **model decreases** and if the alpha value is **too small** then in that case it will take **lot many iterations** to find the optimum weights.\n"
   ]
  },
  {
   "cell_type": "code",
   "execution_count": 134,
   "metadata": {
    "id": "eixdNNU2VQO-"
   },
   "outputs": [],
   "source": [
    "#let's use the adam optimizer the learning\n",
    "# When label encoding use the loss function as SparseCategoricalCrossentropy\n",
    "model.compile(loss ='categorical_crossentropy', \n",
    "              optimizer ='adam',metrics = ['accuracy'])"
   ]
  },
  {
   "cell_type": "markdown",
   "metadata": {
    "id": "_lB67VeoY6fH"
   },
   "source": [
    "## **Step 7: Training the model**\n",
    "Next we fit the model, here we have the following parameters:\n",
    "1. batch_size = It is the number of samples processed before the model is updated.\n",
    "2. Epoch:  It is the number of complete passes through the training dataset.\n",
    "3. Verbose: This parameter takes in three values 0, 1 or 2. It helps the user to decide how do they want to 'see' the training progress for each epoch.\n",
    "\n",
    "a. 0 - Shows nothing (Silent)\n",
    "\n",
    "b. 1 - Will show an animated progress bar\n",
    "\n",
    "c. 2 - Will mention the number of epoch.\n",
    "\n",
    "Detailed explanation for the difference between Epoch and batchsize is:\n",
    "Assume you have a dataset with 200 samples (rows of data) and you choose a batch size of 5 and 1,000 epochs.\n",
    "\n",
    "This means that the dataset will be divided into 40 batches, each with five samples. The model weights will be updated after each batch of five samples.\n",
    "\n",
    "This also means that one epoch will involve 40 batches or 40 updates to the model.\n",
    "\n",
    "With 1,000 epochs, the model will be exposed to or pass through the whole dataset 1,000 times. That is a total of 40,000 batches during the entire training process."
   ]
  },
  {
   "cell_type": "code",
   "execution_count": 135,
   "metadata": {
    "colab": {
     "base_uri": "https://localhost:8080/"
    },
    "id": "pnc8eyjMYdQW",
    "outputId": "aa4ec0f5-3059-4de4-ec2f-bdcb61e65994"
   },
   "outputs": [
    {
     "name": "stdout",
     "output_type": "stream",
     "text": [
      "Epoch 1/5\n",
      "469/469 [==============================] - 7s 13ms/step - loss: 0.2455 - accuracy: 0.9265\n",
      "Epoch 2/5\n",
      "469/469 [==============================] - 9s 19ms/step - loss: 0.0995 - accuracy: 0.9695\n",
      "Epoch 3/5\n",
      "469/469 [==============================] - 9s 20ms/step - loss: 0.0704 - accuracy: 0.9779\n",
      "Epoch 4/5\n",
      "469/469 [==============================] - 8s 17ms/step - loss: 0.0545 - accuracy: 0.9823\n",
      "Epoch 5/5\n",
      "469/469 [==============================] - 7s 15ms/step - loss: 0.0454 - accuracy: 0.9855\n"
     ]
    },
    {
     "data": {
      "text/plain": [
       "<keras.callbacks.History at 0x7f86520e0350>"
      ]
     },
     "execution_count": 135,
     "metadata": {},
     "output_type": "execute_result"
    }
   ],
   "source": [
    "model.fit(X_train, Y_train,\n",
    "          batch_size =128,epochs = 5,verbose =1)"
   ]
  },
  {
   "cell_type": "markdown",
   "metadata": {
    "id": "wtvWg0YCfWMu"
   },
   "source": [
    "## **Step 8: Finally checking the model performance**\n",
    "98.7% accuracy has been obtained."
   ]
  },
  {
   "cell_type": "code",
   "execution_count": 136,
   "metadata": {
    "colab": {
     "base_uri": "https://localhost:8080/"
    },
    "id": "CCzwfnQRZU9e",
    "outputId": "8a11b082-ea33-4ee3-e039-0407c41da9e8"
   },
   "outputs": [
    {
     "name": "stdout",
     "output_type": "stream",
     "text": [
      "313/313 [==============================] - 2s 5ms/step - loss: 0.0683 - accuracy: 0.9808\n",
      "Test score: 0.06825943291187286\n",
      "Test accuracy: 0.9807999730110168\n"
     ]
    }
   ],
   "source": [
    "score = model.evaluate(X_test,Y_test)\n",
    "print('Test score:', score[0])\n",
    "print('Test accuracy:', score[1])"
   ]
  },
  {
   "cell_type": "markdown",
   "metadata": {
    "id": "BD0nA__W6lsn"
   },
   "source": [
    "Inspecting the output: To check whether the results obtained are correct."
   ]
  },
  {
   "cell_type": "code",
   "execution_count": 164,
   "metadata": {
    "colab": {
     "base_uri": "https://localhost:8080/"
    },
    "id": "oK7O5AOh6hiQ",
    "outputId": "42e3f718-81f2-44a0-fb67-aa1f36c9b7dc"
   },
   "outputs": [
    {
     "name": "stdout",
     "output_type": "stream",
     "text": [
      "313/313 [==============================] - 6s 19ms/step\n"
     ]
    }
   ],
   "source": [
    "# The predict_classes function outputs the highest probability class\n",
    "# according to the trained classifier for each input example.\n",
    "predicted_x = model.predict(X_test)\n",
    "predicted_classes = np.argmax(predicted_x,axis = 1)#Returns the index of the value which is maximum in the axis"
   ]
  },
  {
   "cell_type": "code",
   "execution_count": 175,
   "metadata": {
    "colab": {
     "base_uri": "https://localhost:8080/"
    },
    "id": "YKAWnb15gWLb",
    "outputId": "4f037e9e-67df-4a71-f1a6-66a811ccf760"
   },
   "outputs": [
    {
     "data": {
      "text/plain": [
       "7"
      ]
     },
     "execution_count": 175,
     "metadata": {},
     "output_type": "execute_result"
    }
   ],
   "source": [
    "predicted_classes[0] #For the first test sample the model has predicted the class to be 7."
   ]
  },
  {
   "cell_type": "code",
   "execution_count": null,
   "metadata": {
    "id": "CXox7XOPgQ-3"
   },
   "outputs": [],
   "source": [
    "#Check which items we got right/wrong\n",
    "\n",
    "correct_indices = np.nonzero(predicted_classes == y_test)[0]\n",
    "\n",
    "incorrect_indices = np.nonzero(predicted_classes != y_test)[0]"
   ]
  },
  {
   "cell_type": "code",
   "execution_count": 182,
   "metadata": {
    "colab": {
     "base_uri": "https://localhost:8080/"
    },
    "id": "ZhT5YVNujys1",
    "outputId": "75e2e122-3ec2-49b6-f711-53f9ba5f9b16"
   },
   "outputs": [
    {
     "data": {
      "text/plain": [
       "9808"
      ]
     },
     "execution_count": 182,
     "metadata": {},
     "output_type": "execute_result"
    }
   ],
   "source": [
    "len(correct_indices) #Number of test cases where the model prediction is correct"
   ]
  },
  {
   "cell_type": "code",
   "execution_count": 183,
   "metadata": {
    "colab": {
     "base_uri": "https://localhost:8080/"
    },
    "id": "N7giQqdhkRbu",
    "outputId": "21c07c91-1387-4d0b-b377-922f9bdf6edb"
   },
   "outputs": [
    {
     "data": {
      "text/plain": [
       "192"
      ]
     },
     "execution_count": 183,
     "metadata": {},
     "output_type": "execute_result"
    }
   ],
   "source": [
    "len(incorrect_indices) #Number of test cases where the model prediction is incorrect"
   ]
  },
  {
   "cell_type": "code",
   "execution_count": 138,
   "metadata": {
    "colab": {
     "base_uri": "https://localhost:8080/",
     "height": 1000
    },
    "id": "FfngMweu7oPY",
    "outputId": "a3fcaaec-e643-4906-af84-7e93301c5f8f"
   },
   "outputs": [
    {
     "data": {
      "image/png": "[encoded data removed]",
      "text/plain": [
       "<Figure size 648x648 with 9 Axes>"
      ]
     },
     "metadata": {
      "needs_background": "light"
     },
     "output_type": "display_data"
    },
    {
     "data": {
      "image/png": "[encoded data removed]",
      "text/plain": [
       "<Figure size 648x648 with 9 Axes>"
      ]
     },
     "metadata": {
      "needs_background": "light"
     },
     "output_type": "display_data"
    }
   ],
   "source": [
    "# The first 3x3 subplot has test cases where the model has predicted correctly.\n",
    "plt.figure()\n",
    "for i, correct in enumerate(correct_indices[:9]): #enumerate will give tuple of (count,index)\n",
    "    plt.subplot(3,3,i+1)\n",
    "    plt.imshow(X_test[correct].reshape(28,28), cmap='gray', interpolation='none')\n",
    "    plt.title(\"Predicted {}, Class {}\".format(predicted_classes[correct], y_test[correct]))\n",
    "    \n",
    "plt.tight_layout()\n",
    "\n",
    "# The next 3x3 subplot has test cases where the model has predicted incorrectly.\n",
    "plt.figure()\n",
    "for i, incorrect in enumerate(incorrect_indices[:9]):\n",
    "    plt.subplot(3,3,i+1)\n",
    "    plt.imshow(X_test[incorrect].reshape(28,28), cmap='gray', interpolation='none')\n",
    "    plt.title(\"Predicted {}, Class {}\".format(predicted_classes[incorrect], y_test[incorrect]))\n",
    "    \n",
    "plt.tight_layout()"
   ]
  },
  {
   "cell_type": "markdown",
   "metadata": {
    "id": "fVqY5mCFUKPS"
   },
   "source": [
    "\n",
    "\n",
    "---\n",
    "\n",
    "# **Method 2: Using Convolution**\n",
    "\n",
    "Here, we would feed different features of each image into a network, and have the network learn which features are important for classifying an image \n",
    "\n",
    "---\n",
    "\n"
   ]
  },
  {
   "cell_type": "markdown",
   "metadata": {
    "id": "uZzVXbwLof-e"
   },
   "source": [
    "# **Step 1: Importing additional libraries**"
   ]
  },
  {
   "cell_type": "code",
   "execution_count": 190,
   "metadata": {
    "id": "mICa4oTy8wW7"
   },
   "outputs": [],
   "source": [
    "from keras.preprocessing.image import ImageDataGenerator # Library contains utilities for image preprocessing \n",
    "                                                         # and augmentation.\n",
    "from keras.layers import Conv2D, MaxPooling2D, ZeroPadding2D, GlobalAveragePooling2D, Flatten #Methods to extract information from the image\n",
    "from keras.layers.normalization.batch_normalization import BatchNormalization # For Batch normalization method"
   ]
  },
  {
   "cell_type": "markdown",
   "metadata": {
    "id": "F6jxetkQq-xo"
   },
   "source": [
    "# **Step 2: Dividing the dataset into test and train.**"
   ]
  },
  {
   "cell_type": "code",
   "execution_count": 191,
   "metadata": {
    "id": "Yvuhkxr0UOqk"
   },
   "outputs": [],
   "source": [
    "(X_train, y_train), (X_test,y_test) = mnist.load_data()"
   ]
  },
  {
   "cell_type": "code",
   "execution_count": 192,
   "metadata": {
    "colab": {
     "base_uri": "https://localhost:8080/"
    },
    "id": "n73T2n0Nrmsk",
    "outputId": "9acd8917-c60c-4c61-a5bd-de541d2a8444"
   },
   "outputs": [
    {
     "data": {
      "text/plain": [
       "(60000, 28, 28)"
      ]
     },
     "execution_count": 192,
     "metadata": {},
     "output_type": "execute_result"
    }
   ],
   "source": [
    "X_train.shape"
   ]
  },
  {
   "cell_type": "markdown",
   "metadata": {
    "id": "GZlNXXPbrHCh"
   },
   "source": [
    "## **Step 3: Feature Transformation.**"
   ]
  },
  {
   "cell_type": "markdown",
   "metadata": {
    "id": "RqHPSZIGrQjH"
   },
   "source": [
    "A. Reshaping the train and test data to 28 x 28 x 1.We are not gonna directly use flattening. Here, we are also adding an additional dimension to represent a single channel (black/White)."
   ]
  },
  {
   "cell_type": "code",
   "execution_count": 193,
   "metadata": {
    "id": "evXTXvAuWccm"
   },
   "outputs": [],
   "source": [
    "X_train = X_train.reshape(60000 , 28,28,1)  # reshape 60,000 28 x 28 matrices into 28 x 28 x 1\n",
    "X_test = X_test.reshape(10000, 28,28,1)     # reshape 10,000 28 x 28 matrices into 28 x 28 x 1"
   ]
  },
  {
   "cell_type": "code",
   "execution_count": 194,
   "metadata": {
    "colab": {
     "base_uri": "https://localhost:8080/"
    },
    "id": "Sib7tkdqtFW9",
    "outputId": "e95dfac7-2870-4a77-82c8-422780183195"
   },
   "outputs": [
    {
     "data": {
      "text/plain": [
       "dtype('uint8')"
      ]
     },
     "execution_count": 194,
     "metadata": {},
     "output_type": "execute_result"
    }
   ],
   "source": [
    "X_train.dtype"
   ]
  },
  {
   "cell_type": "markdown",
   "metadata": {
    "id": "YU2AZhYas95f"
   },
   "source": [
    "B. All the math involved for neural network is continuous and not discrete, if we do not convert the data type explicitly, at some point in pipeline the values will be converted to float. Also, it is the best practice to convert the values explicitly as some frameworks might give the error when the inputs are not of expected data type."
   ]
  },
  {
   "cell_type": "code",
   "execution_count": 195,
   "metadata": {
    "id": "fyKpNnCXWe26"
   },
   "outputs": [],
   "source": [
    "X_train = X_train.astype('float32')  #Change integers to 32-bit floating point\n",
    "X_test = X_test.astype('float32')"
   ]
  },
  {
   "cell_type": "markdown",
   "metadata": {
    "id": "gJQZyuGitR0_"
   },
   "source": [
    "C. Normailizing using min-max Method\n",
    "\n",
    "The reason why we normalize each pixel value is neural network learns its weights by continually adding gradient error vectors (multiplied by a learning rate) computed from backpropagation to various weight matrices throughout the network as training examples are passed through.\n",
    "\n",
    "If we didn't scale our input training vectors, the ranges of our distributions of feature values would likely be different for each feature, and thus the learning rate would cause corrections in each dimension that would differ (proportionally speaking) from one another. We might be over compensating a correction in one weight dimension while undercompensating in another.\n",
    "\n",
    "This is non-ideal as we might find ourselves in a oscillating (unable to center onto a better maxima in cost(weights) space) state or in a slow moving (traveling too slow to get to a better maxima) state."
   ]
  },
  {
   "cell_type": "code",
   "execution_count": 196,
   "metadata": {
    "colab": {
     "base_uri": "https://localhost:8080/"
    },
    "id": "VsGixbvyWhHJ",
    "outputId": "a50ef79d-cdcd-495a-9f4c-15d4852c0f5a"
   },
   "outputs": [
    {
     "name": "stdout",
     "output_type": "stream",
     "text": [
      "Training matrix shape (60000, 28, 28, 1)\n",
      "Testing matrix shape (10000, 28, 28, 1)\n"
     ]
    }
   ],
   "source": [
    "X_train /=255 #normalize each value for each pixel\n",
    "X_test /=255\n",
    "\n",
    "print(\"Training matrix shape\", X_train.shape)\n",
    "print(\"Testing matrix shape\", X_test.shape)"
   ]
  },
  {
   "cell_type": "markdown",
   "metadata": {
    "id": "-LxGhdcmtnrn"
   },
   "source": [
    "D. Converting the dependent variable to vectors which will consists 1 and 0s. 1 - The image is of that particular Category. 0 - The image is not of that particular Category.\n",
    "\n",
    "The classes (unique digits) are to be in the one-hot encoding formating, i.e\n",
    "\n",
    "0 = [1,0,0,0,0,0,0,0,0,0]\n",
    "\n",
    "1 = [0,1,0,0,0,0,0,0,0,0]\n",
    "\n",
    "etc"
   ]
  },
  {
   "cell_type": "code",
   "execution_count": 197,
   "metadata": {
    "id": "P6xcf6kgWjjG"
   },
   "outputs": [],
   "source": [
    "nb_classes = 10 # number of unique digits\n",
    "\n",
    "Y_train = np_utils.to_categorical(y_train, nb_classes)\n",
    "Y_test = np_utils.to_categorical(y_test, nb_classes)"
   ]
  },
  {
   "cell_type": "markdown",
   "metadata": {
    "id": "2liILCQZtxA_"
   },
   "source": [
    "# **Step 4: Model Building**"
   ]
  },
  {
   "cell_type": "markdown",
   "metadata": {
    "id": "nwR79S99uBA2"
   },
   "source": [
    "A. We create a sequential object, which is used to simply arranging the Keras layers in a sequential order and so, it is called Sequential API. Most of the ANN also has layers in sequential order and the data flows from one layer to another layer in the given order until the data finally reaches the output layer."
   ]
  },
  {
   "cell_type": "code",
   "execution_count": 198,
   "metadata": {
    "id": "Qad-LuSgXPVc"
   },
   "outputs": [],
   "source": [
    "model = Sequential()                                 # Linear stacking of layers"
   ]
  },
  {
   "cell_type": "markdown",
   "metadata": {
    "id": "4okG86VRwHEP"
   },
   "source": [
    "B. Creating the first Convolution Layer, the parameters involved are:\n",
    "1. filters: To specify the number of feature detectors. Here, we specify it as 32\n",
    "2. kernal_size: The size of the kernal, in our case it is 3 x 3.\n",
    "3. input_shape: Here, we specify the order of the input for the first layer."
   ]
  },
  {
   "cell_type": "code",
   "execution_count": 199,
   "metadata": {
    "id": "qYAfe8m0uJqe"
   },
   "outputs": [],
   "source": [
    "# Convolution Layer 1\n",
    "model.add(Conv2D(32, (3, 3), input_shape=(28,28,1))) # 32 different 3x3 kernels -- so 32 feature maps"
   ]
  },
  {
   "cell_type": "markdown",
   "metadata": {
    "id": "9bWDfr8j70Ls"
   },
   "source": [
    "C. Applying Batch normalization:\n",
    "It is a process to make neural networks faster and more stable through adding extra layers in a deep neural network. The new layer performs the standardizing and normalizing operations on the input of a layer coming from a previous layer.The normalizing process in batch normalization takes place in batches, not as a single input. The process involved is as follow:\n",
    "\n",
    "1. Calculate the mean of the hidden activation.\n",
    "2. Calculate the SD of the hidden activation.\n",
    "3. Finally the smoothing is done using the formula:\n",
    "\n",
    "![image.png](data:image/png;base64,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)\n",
    "\n",
    "Where epsilon is the smoothing term which assures numerical stability within the operation by stopping a division by a zero value.\n",
    "\n",
    "Step 4: Rescalling and offsetting of the inputs are done using the two components of the BN algorithm, gamma and β.These two are learnable parameters, during the training neural network ensures the optimal values of γ and β are used. That will enable the accurate normalization of each batch.\n",
    "\n",
    "![image.png](data:image/png;base64,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)\n",
    "\n",
    "The parameter used is:\n",
    "\n",
    "axis: This takes integer value, here we specify the feature whic needs to normalized.\n"
   ]
  },
  {
   "cell_type": "code",
   "execution_count": 146,
   "metadata": {
    "id": "t79-iblZSW4O"
   },
   "outputs": [],
   "source": [
    "model.add(BatchNormalization(axis=-1))               # normalize each feature map before activation\n"
   ]
  },
  {
   "cell_type": "markdown",
   "metadata": {
    "id": "sqF3FRpgBEe_"
   },
   "source": [
    "D. Now an activation function which is a non-linear function is applied to the output of the layer 1. This activation function checks the output of each node and decides whether the node has fired or not. The activation function used here is 'Rectified Linear Unit (ReLU) it converts all negative inputs to the node in the next layer to be zero. These inputs are then not considered to be fired. The positive values are unchanged.\n",
    "\n",
    "Explained in deatil in the previous part Method: Without Convolution."
   ]
  },
  {
   "cell_type": "code",
   "execution_count": 147,
   "metadata": {
    "id": "NwtHfxHJSrig"
   },
   "outputs": [],
   "source": [
    "convLayer01 = Activation('relu')  \n",
    "model.add(convLayer01)                   "
   ]
  },
  {
   "cell_type": "markdown",
   "metadata": {
    "id": "R2IhvNJSCIiO"
   },
   "source": [
    "E. Adding the second Covolution Layer. Here too we have 32 kernals and we would get 32 feature map after the operation. We also perform the batch normalization before the applying the ReLU activation function."
   ]
  },
  {
   "cell_type": "code",
   "execution_count": 149,
   "metadata": {
    "id": "fGbnQifpT1Es"
   },
   "outputs": [],
   "source": [
    "# Convolution Layer 2\n",
    "model.add(Conv2D(32, (3, 3)))                        # 32 different 3x3 kernels -- so 32 feature maps"
   ]
  },
  {
   "cell_type": "code",
   "execution_count": 150,
   "metadata": {
    "id": "4HMNNpasT5lM"
   },
   "outputs": [],
   "source": [
    "model.add(BatchNormalization(axis=-1))               # normalize each feature map before activation"
   ]
  },
  {
   "cell_type": "markdown",
   "metadata": {
    "id": "FzmWD2nuB0Wn"
   },
   "source": [
    "Why do we specifically use ReLU?\n",
    "The purpose of applying the rectifier function is to increase the non-linearity in our images. The reason we want to do that is that images are naturally non-linear.\n",
    "\n",
    "When we look at any image, we''ll find it contains a lot of non-linear features (e.g. the transition between pixels, the borders, the colors, etc.).\n",
    "\n",
    "The rectifier serves to break up the linearity even further in order to make up for the linearity that we might impose an image when we put it through the convolution operation."
   ]
  },
  {
   "cell_type": "code",
   "execution_count": 151,
   "metadata": {
    "id": "2b9CoxbJUDyw"
   },
   "outputs": [],
   "source": [
    "model.add(Activation('relu'))                        # activation function used is ReLU"
   ]
  },
  {
   "cell_type": "markdown",
   "metadata": {
    "id": "wUwjbcUYC6xo"
   },
   "source": [
    "F. **MaxPooling** is applied which downsamples the input along its spatial dimensions (height and width) by taking the maximum value over an input window (of size defined by pool_size) for each channel of the input. The window is shifted by strides along each dimension. Here, the matrix is of order 2 x 2."
   ]
  },
  {
   "cell_type": "code",
   "execution_count": 152,
   "metadata": {
    "id": "_yoaj3PHUZRy"
   },
   "outputs": [],
   "source": [
    "convoLayer02 = MaxPooling2D(pool_size = (2,2))"
   ]
  },
  {
   "cell_type": "code",
   "execution_count": 153,
   "metadata": {
    "id": "fQelR-_UUD1Y"
   },
   "outputs": [],
   "source": [
    "model.add(convoLayer02)"
   ]
  },
  {
   "cell_type": "markdown",
   "metadata": {
    "id": "ekRatm0YD3AA"
   },
   "source": [
    "G. Adding another Convolution layer with 64 kernals, and applying the same steps as before."
   ]
  },
  {
   "cell_type": "code",
   "execution_count": 154,
   "metadata": {
    "id": "ytbhNaS8UD4B"
   },
   "outputs": [],
   "source": [
    "# Convolution Layer 3\n",
    "model.add(Conv2D(64,(3, 3)))                         # 64 different 3x3 kernels -- so 64 feature maps\n",
    "model.add(BatchNormalization(axis=-1))               # normalize each feature map before activation\n",
    "convLayer03 = Activation('relu')                     # activation\n",
    "model.add(convLayer03)"
   ]
  },
  {
   "cell_type": "markdown",
   "metadata": {
    "id": "fYNggxhuEUUd"
   },
   "source": [
    "H. Adding 4th Convolution layer with 64 kernals, and applying the same steps as before. Finally applying flattening."
   ]
  },
  {
   "cell_type": "code",
   "execution_count": 155,
   "metadata": {
    "id": "x1gwJnCsUD7W"
   },
   "outputs": [],
   "source": [
    "# Convolution Layer 4\n",
    "model.add(Conv2D(64, (3, 3)))                        # 64 different 3x3 kernels -- so 64 feature maps\n",
    "model.add(BatchNormalization(axis=-1))               # normalize each feature map before activation\n",
    "model.add(Activation('relu'))                        # activation\n",
    "convLayer04 = MaxPooling2D(pool_size=(2,2))          # Pool the max values over a 2x2 kernel\n",
    "model.add(convLayer04)\n",
    "model.add(Flatten())"
   ]
  },
  {
   "cell_type": "markdown",
   "metadata": {
    "id": "KcQcEivjFrmB"
   },
   "source": [
    "I. Next we create a hidden dense layer with 512 Nodes. Next apply Normalization and then activation function ReLU."
   ]
  },
  {
   "cell_type": "code",
   "execution_count": 156,
   "metadata": {
    "id": "V3cKvos9UD-T"
   },
   "outputs": [],
   "source": [
    "# Fully Connected Layer 5\n",
    "model.add(Dense(512))                                # 512 FCN nodes\n",
    "model.add(BatchNormalization())                      # normalization\n",
    "model.add(Activation('relu'))"
   ]
  },
  {
   "cell_type": "markdown",
   "metadata": {
    "id": "ItrlMt6XGCDg"
   },
   "source": [
    "J. From the previous layer 20% of neurons are randomly selected and considered not active. This is done to avoid over-fitting.And then we finally create the last output layer, which has 10 nodes. And apply the \"softmax\" function since we have a multiclass problem (10 categories)."
   ]
  },
  {
   "cell_type": "code",
   "execution_count": 157,
   "metadata": {
    "id": "JZQdQUexVMSD"
   },
   "outputs": [],
   "source": [
    "# Fully Connected Layer 6                       \n",
    "model.add(Dropout(0.2))                              # 20% dropout of randomly selected nodes\n",
    "model.add(Dense(10))                                 # final 10 FCN nodes\n",
    "model.add(Activation('softmax'))                     # softmax activation"
   ]
  },
  {
   "cell_type": "markdown",
   "metadata": {
    "id": "WVebQIfCG5cZ"
   },
   "source": [
    "K. By using model.summary(). We get the information about the number of parameters that are involved at each layer. The formula for computing the number of parameters after performing the **Convolution** is \n",
    "= ((Dimention of Height * dimension of Width * no. of filters in the previous layer) + 1 (Bias)) * (No of filters in the current layer)\n",
    "\n",
    "For Eg: \n",
    "1. For Con2d_4 - Number of parameters are: ((3 * 3 * 1) + 1)*32) = 320\n",
    "2. For Con2d_5 - Number of parameters are: ((3 * 3 * 32) + 1)*32) = 9248\n",
    "\n",
    "The parameter for the **batch normalization** is: Number of Nodes*4 (Which are the four parameters of BN which are: \n",
    "\n",
    "**gamma weights, beta weights, moving_mean(non-trainable) and moving_variance(non-trainable)**\n",
    "\n",
    "For Eg: \n",
    "\n",
    "1. 32*4 = 512\n",
    "\n",
    "Also note: \n",
    "\n",
    "1. **Total Params** are the total number of parameters in the model.\n",
    "2. **Trainable parameter**s are those parameters which are found using the gradient, when we use batch normalization the parameters Gamma and beta are trained using the gradient but the mean and the variance are not, these are known as **non-trainable parameters**. The number of these parameters could be computed as sum of all the layers of (Total Nodes *2)"
   ]
  },
  {
   "cell_type": "code",
   "execution_count": 158,
   "metadata": {
    "colab": {
     "base_uri": "https://localhost:8080/"
    },
    "id": "glh8UiqXXPYH",
    "outputId": "a5da1ee4-7869-4804-ad99-110b4f09168e"
   },
   "outputs": [
    {
     "name": "stdout",
     "output_type": "stream",
     "text": [
      "Model: \"sequential_4\"\n",
      "_________________________________________________________________\n",
      " Layer (type)                Output Shape              Param #   \n",
      "=================================================================\n",
      " conv2d_4 (Conv2D)           (None, 26, 26, 32)        320       \n",
      "                                                                 \n",
      " batch_normalization_5 (Batc  (None, 26, 26, 32)       128       \n",
      " hNormalization)                                                 \n",
      "                                                                 \n",
      " activation_15 (Activation)  (None, 26, 26, 32)        0         \n",
      "                                                                 \n",
      " conv2d_5 (Conv2D)           (None, 24, 24, 32)        9248      \n",
      "                                                                 \n",
      " batch_normalization_6 (Batc  (None, 24, 24, 32)       128       \n",
      " hNormalization)                                                 \n",
      "                                                                 \n",
      " activation_16 (Activation)  (None, 24, 24, 32)        0         \n",
      "                                                                 \n",
      " max_pooling2d_2 (MaxPooling  (None, 12, 12, 32)       0         \n",
      " 2D)                                                             \n",
      "                                                                 \n",
      " conv2d_6 (Conv2D)           (None, 10, 10, 64)        18496     \n",
      "                                                                 \n",
      " batch_normalization_7 (Batc  (None, 10, 10, 64)       256       \n",
      " hNormalization)                                                 \n",
      "                                                                 \n",
      " activation_17 (Activation)  (None, 10, 10, 64)        0         \n",
      "                                                                 \n",
      " conv2d_7 (Conv2D)           (None, 8, 8, 64)          36928     \n",
      "                                                                 \n",
      " batch_normalization_8 (Batc  (None, 8, 8, 64)         256       \n",
      " hNormalization)                                                 \n",
      "                                                                 \n",
      " activation_18 (Activation)  (None, 8, 8, 64)          0         \n",
      "                                                                 \n",
      " max_pooling2d_3 (MaxPooling  (None, 4, 4, 64)         0         \n",
      " 2D)                                                             \n",
      "                                                                 \n",
      " flatten_1 (Flatten)         (None, 1024)              0         \n",
      "                                                                 \n",
      " dense_11 (Dense)            (None, 512)               524800    \n",
      "                                                                 \n",
      " batch_normalization_9 (Batc  (None, 512)              2048      \n",
      " hNormalization)                                                 \n",
      "                                                                 \n",
      " activation_19 (Activation)  (None, 512)               0         \n",
      "                                                                 \n",
      " dropout_7 (Dropout)         (None, 512)               0         \n",
      "                                                                 \n",
      " dense_12 (Dense)            (None, 10)                5130      \n",
      "                                                                 \n",
      " activation_20 (Activation)  (None, 10)                0         \n",
      "                                                                 \n",
      "=================================================================\n",
      "Total params: 597,738\n",
      "Trainable params: 596,330\n",
      "Non-trainable params: 1,408\n",
      "_________________________________________________________________\n"
     ]
    }
   ],
   "source": [
    "model.summary()"
   ]
  },
  {
   "cell_type": "markdown",
   "metadata": {
    "id": "VvNvoHzDI3r6"
   },
   "source": [
    "# **Step 5: Compiling the model**"
   ]
  },
  {
   "cell_type": "markdown",
   "metadata": {
    "id": "MeZMlsAlIm3c"
   },
   "source": [
    "As mention previously we will use the same parameters for compiling the model as we had used in the previous method."
   ]
  },
  {
   "cell_type": "code",
   "execution_count": 159,
   "metadata": {
    "id": "vTMEkd1aXPbC"
   },
   "outputs": [],
   "source": [
    "# we'll use the adam optimizer\n",
    "model.compile(loss='categorical_crossentropy', optimizer='adam', metrics=['accuracy'])"
   ]
  },
  {
   "cell_type": "markdown",
   "metadata": {
    "id": "-N07slOMUrOA"
   },
   "source": [
    "## **Step 6: Fitting the model**"
   ]
  },
  {
   "cell_type": "markdown",
   "metadata": {
    "id": "xTLPaUxEJhD3"
   },
   "source": [
    "Image augmentation is a technique of applying different transformations to original images which results in multiple transformed copies of the same image. Each copy, however, is different from the other in certain aspects depending on the augmentation techniques you apply like shifting, rotating, flipping, etc.\n",
    "\n",
    "Applying these small amounts of variations on the original image does not change its target class but only provides a new perspective of capturing the object in real life. And so, we use it is quite often for building deep learning models.The various parameters used is:\n",
    "\n",
    "1. **rotation_range** -  allows you to randomly rotate images through any degree between 0 and 360 by providing an integer value in the rotation_range argument.\n",
    "2. **Random shifts** - It may happen that the object may not always be in the center of the image. To overcome this problem we can shift the pixels of the image either horizontally or vertically; this is done by adding a certain constant value to all the pixels. It has the argument **height_shift_rang**e for a vertical shift of image and **width_shift_range** for a horizontal shift of image.\n",
    "3. **zoom_range** - The zoom augmentation either randomly zooms in on the image or zooms out of the image. etc"
   ]
  },
  {
   "cell_type": "code",
   "execution_count": 160,
   "metadata": {
    "id": "5uXOwxTjXhmL"
   },
   "outputs": [],
   "source": [
    "# data augmentation prevents overfitting by slightly changing the data randomly\n",
    "# Keras has a great built-in feature to do automatic augmentation\n",
    "\n",
    "gen = ImageDataGenerator(rotation_range=8, width_shift_range=0.08, shear_range=0.3,\n",
    "                         height_shift_range=0.08, zoom_range=0.08)\n",
    "\n",
    "test_gen = ImageDataGenerator()"
   ]
  },
  {
   "cell_type": "markdown",
   "metadata": {
    "id": "B8WNzKZiXGLu"
   },
   "source": [
    "Performing the transformation in both the train and test data."
   ]
  },
  {
   "cell_type": "code",
   "execution_count": 161,
   "metadata": {
    "id": "nYTj_UcVXho0"
   },
   "outputs": [],
   "source": [
    "# We can then feed our augmented data in batches\n",
    "# Besides loss function considerations as before, this method actually results in significant memory savings\n",
    "# because we are actually LOADING the data into the network in batches before processing each batch\n",
    "# Before the data was all loaded into memory, but then processed in batches.\n",
    "\n",
    "train_generator = gen.flow(X_train, Y_train, batch_size=128)\n",
    "test_generator = test_gen.flow(X_test, Y_test, batch_size=128)"
   ]
  },
  {
   "cell_type": "markdown",
   "metadata": {
    "id": "xwU-WwVnYRcq"
   },
   "source": [
    "Fiting on the train data"
   ]
  },
  {
   "cell_type": "code",
   "execution_count": 162,
   "metadata": {
    "colab": {
     "base_uri": "https://localhost:8080/"
    },
    "id": "YvA7_P-8Kq7A",
    "outputId": "37f40bbe-f7f4-45b0-9587-6f4ddb363db9"
   },
   "outputs": [
    {
     "name": "stderr",
     "output_type": "stream",
     "text": [
      "/usr/local/lib/python3.7/dist-packages/ipykernel_launcher.py:8: UserWarning: `Model.fit_generator` is deprecated and will be removed in a future version. Please use `Model.fit`, which supports generators.\n",
      "  \n"
     ]
    },
    {
     "name": "stdout",
     "output_type": "stream",
     "text": [
      "Epoch 1/5\n",
      "468/468 [==============================] - 137s 289ms/step - loss: 0.1304 - accuracy: 0.9592 - val_loss: 0.1333 - val_accuracy: 0.9590\n",
      "Epoch 2/5\n",
      "468/468 [==============================] - 143s 307ms/step - loss: 0.0505 - accuracy: 0.9841 - val_loss: 0.0420 - val_accuracy: 0.9860\n",
      "Epoch 3/5\n",
      "468/468 [==============================] - 126s 269ms/step - loss: 0.0412 - accuracy: 0.9876 - val_loss: 0.0352 - val_accuracy: 0.9889\n",
      "Epoch 4/5\n",
      "468/468 [==============================] - 140s 300ms/step - loss: 0.0337 - accuracy: 0.9899 - val_loss: 0.0596 - val_accuracy: 0.9808\n",
      "Epoch 5/5\n",
      "468/468 [==============================] - 132s 283ms/step - loss: 0.0295 - accuracy: 0.9912 - val_loss: 0.0199 - val_accuracy: 0.9934\n"
     ]
    },
    {
     "data": {
      "text/plain": [
       "<keras.callbacks.History at 0x7f8656988990>"
      ]
     },
     "execution_count": 162,
     "metadata": {},
     "output_type": "execute_result"
    }
   ],
   "source": [
    "# We can now train our model which is fed data by our batch loader\n",
    "# Steps per epoch should always be total size of the set divided by the batch size\n",
    "# SIGNIFICANT MEMORY SAVINGS (important for larger, deeper networks)\n",
    "\n",
    "model.fit_generator(train_generator, steps_per_epoch=60000//128, #this is basically batch size\n",
    "                    epochs=5, verbose=1, \n",
    "                    validation_data=test_generator,\n",
    "                    validation_steps= 10000//128)"
   ]
  },
  {
   "cell_type": "markdown",
   "metadata": {
    "id": "emg810nBa1pZ"
   },
   "source": [
    "# **Step 7: Evaluating the model**\n",
    "Finally evaluating the model performance."
   ]
  },
  {
   "cell_type": "code",
   "execution_count": 163,
   "metadata": {
    "colab": {
     "base_uri": "https://localhost:8080/"
    },
    "id": "85E314osYteg",
    "outputId": "f77f3efc-13d6-475b-e3ae-80611df7529b"
   },
   "outputs": [
    {
     "name": "stdout",
     "output_type": "stream",
     "text": [
      "313/313 [==============================] - 6s 20ms/step - loss: 0.0199 - accuracy: 0.9934\n",
      "Test score: 0.019901109859347343\n",
      "Test accuracy: 0.993399977684021\n"
     ]
    }
   ],
   "source": [
    "score = model.evaluate(X_test, Y_test)\n",
    "print('Test score:', score[0])\n",
    "print('Test accuracy:', score[1])"
   ]
  },
  {
   "cell_type": "markdown",
   "metadata": {
    "id": "a1dY_Q5jYj9B"
   },
   "source": [
    "## **Conclusion:** After performing the additional convolution steps of tranformation there has been an improvement in the performance. Also, since the number of trainable parameters are less in the second method, the overhead computation involved is also less. Thus, the second method is better."
   ]
  }
 ],
 "metadata": {
  "colab": {
   "collapsed_sections": [],
   "provenance": []
  },
  "kernelspec": {
   "display_name": "Python 3",
   "language": "python",
   "name": "python3"
  },
  "language_info": {
   "codemirror_mode": {
    "name": "ipython",
    "version": 3
   },
   "file_extension": ".py",
   "mimetype": "text/x-python",
   "name": "python",
   "nbconvert_exporter": "python",
   "pygments_lexer": "ipython3",
   "version": "3.7.6"
  }
 },
 "nbformat": 4,
 "nbformat_minor": 1
}
